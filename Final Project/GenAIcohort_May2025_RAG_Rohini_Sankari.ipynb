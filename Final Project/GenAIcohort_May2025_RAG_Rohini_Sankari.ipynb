{
  "cells": [
    {
      "cell_type": "code",
      "execution_count": null,
      "id": "a14c7e94",
      "metadata": {
        "colab": {
          "base_uri": "https://localhost:8080/"
        },
        "id": "a14c7e94",
        "outputId": "f2e8e5c0-dc61-46b6-e323-868d11f1ffa5"
      },
      "outputs": [
        {
          "name": "stdout",
          "output_type": "stream",
          "text": [
            "\u001b[?25l   \u001b[90m━━━━━━━━━━━━━━━━━━━━━━━━━━━━━━━━━━━━━━━━\u001b[0m \u001b[32m0.0/2.5 MB\u001b[0m \u001b[31m?\u001b[0m eta \u001b[36m-:--:--\u001b[0m\r",
            "\u001b[2K   \u001b[91m━━━━━━━━━━━━━━━━━━━━━━━━━━━━━━━━━━━━━━━\u001b[0m\u001b[91m╸\u001b[0m \u001b[32m2.5/2.5 MB\u001b[0m \u001b[31m131.1 MB/s\u001b[0m eta \u001b[36m0:00:01\u001b[0m\r",
            "\u001b[2K   \u001b[90m━━━━━━━━━━━━━━━━━━━━━━━━━━━━━━━━━━━━━━━━\u001b[0m \u001b[32m2.5/2.5 MB\u001b[0m \u001b[31m62.9 MB/s\u001b[0m eta \u001b[36m0:00:00\u001b[0m\n",
            "\u001b[2K   \u001b[90m━━━━━━━━━━━━━━━━━━━━━━━━━━━━━━━━━━━━━━━━\u001b[0m \u001b[32m1.0/1.0 MB\u001b[0m \u001b[31m46.5 MB/s\u001b[0m eta \u001b[36m0:00:00\u001b[0m\n",
            "\u001b[2K   \u001b[90m━━━━━━━━━━━━━━━━━━━━━━━━━━━━━━━━━━━━━━━━\u001b[0m \u001b[32m31.3/31.3 MB\u001b[0m \u001b[31m62.0 MB/s\u001b[0m eta \u001b[36m0:00:00\u001b[0m\n",
            "\u001b[2K   \u001b[90m━━━━━━━━━━━━━━━━━━━━━━━━━━━━━━━━━━━━━━━━\u001b[0m \u001b[32m24.1/24.1 MB\u001b[0m \u001b[31m58.3 MB/s\u001b[0m eta \u001b[36m0:00:00\u001b[0m\n",
            "\u001b[2K   \u001b[90m━━━━━━━━━━━━━━━━━━━━━━━━━━━━━━━━━━━━━━━━\u001b[0m \u001b[32m130.2/130.2 kB\u001b[0m \u001b[31m9.4 MB/s\u001b[0m eta \u001b[36m0:00:00\u001b[0m\n",
            "\u001b[2K   \u001b[90m━━━━━━━━━━━━━━━━━━━━━━━━━━━━━━━━━━━━━━━━\u001b[0m \u001b[32m438.9/438.9 kB\u001b[0m \u001b[31m24.3 MB/s\u001b[0m eta \u001b[36m0:00:00\u001b[0m\n",
            "\u001b[2K   \u001b[90m━━━━━━━━━━━━━━━━━━━━━━━━━━━━━━━━━━━━━━━━\u001b[0m \u001b[32m45.2/45.2 kB\u001b[0m \u001b[31m3.2 MB/s\u001b[0m eta \u001b[36m0:00:00\u001b[0m\n",
            "\u001b[2K   \u001b[90m━━━━━━━━━━━━━━━━━━━━━━━━━━━━━━━━━━━━━━━━\u001b[0m \u001b[32m363.4/363.4 MB\u001b[0m \u001b[31m4.4 MB/s\u001b[0m eta \u001b[36m0:00:00\u001b[0m\n",
            "\u001b[2K   \u001b[90m━━━━━━━━━━━━━━━━━━━━━━━━━━━━━━━━━━━━━━━━\u001b[0m \u001b[32m13.8/13.8 MB\u001b[0m \u001b[31m108.6 MB/s\u001b[0m eta \u001b[36m0:00:00\u001b[0m\n",
            "\u001b[2K   \u001b[90m━━━━━━━━━━━━━━━━━━━━━━━━━━━━━━━━━━━━━━━━\u001b[0m \u001b[32m24.6/24.6 MB\u001b[0m \u001b[31m82.2 MB/s\u001b[0m eta \u001b[36m0:00:00\u001b[0m\n",
            "\u001b[2K   \u001b[90m━━━━━━━━━━━━━━━━━━━━━━━━━━━━━━━━━━━━━━━━\u001b[0m \u001b[32m883.7/883.7 kB\u001b[0m \u001b[31m45.4 MB/s\u001b[0m eta \u001b[36m0:00:00\u001b[0m\n",
            "\u001b[2K   \u001b[90m━━━━━━━━━━━━━━━━━━━━━━━━━━━━━━━━━━━━━━━━\u001b[0m \u001b[32m664.8/664.8 MB\u001b[0m \u001b[31m2.7 MB/s\u001b[0m eta \u001b[36m0:00:00\u001b[0m\n",
            "\u001b[2K   \u001b[90m━━━━━━━━━━━━━━━━━━━━━━━━━━━━━━━━━━━━━━━━\u001b[0m \u001b[32m211.5/211.5 MB\u001b[0m \u001b[31m5.6 MB/s\u001b[0m eta \u001b[36m0:00:00\u001b[0m\n",
            "\u001b[2K   \u001b[90m━━━━━━━━━━━━━━━━━━━━━━━━━━━━━━━━━━━━━━━━\u001b[0m \u001b[32m56.3/56.3 MB\u001b[0m \u001b[31m11.3 MB/s\u001b[0m eta \u001b[36m0:00:00\u001b[0m\n",
            "\u001b[2K   \u001b[90m━━━━━━━━━━━━━━━━━━━━━━━━━━━━━━━━━━━━━━━━\u001b[0m \u001b[32m127.9/127.9 MB\u001b[0m \u001b[31m7.2 MB/s\u001b[0m eta \u001b[36m0:00:00\u001b[0m\n",
            "\u001b[2K   \u001b[90m━━━━━━━━━━━━━━━━━━━━━━━━━━━━━━━━━━━━━━━━\u001b[0m \u001b[32m207.5/207.5 MB\u001b[0m \u001b[31m6.1 MB/s\u001b[0m eta \u001b[36m0:00:00\u001b[0m\n",
            "\u001b[2K   \u001b[90m━━━━━━━━━━━━━━━━━━━━━━━━━━━━━━━━━━━━━━━━\u001b[0m \u001b[32m21.1/21.1 MB\u001b[0m \u001b[31m75.9 MB/s\u001b[0m eta \u001b[36m0:00:00\u001b[0m\n",
            "\u001b[2K   \u001b[90m━━━━━━━━━━━━━━━━━━━━━━━━━━━━━━━━━━━━━━━━\u001b[0m \u001b[32m50.9/50.9 kB\u001b[0m \u001b[31m3.5 MB/s\u001b[0m eta \u001b[36m0:00:00\u001b[0m\n",
            "\u001b[?25h"
          ]
        }
      ],
      "source": [
        "#  Install required packages (if not already installed)\n",
        "!pip install --quiet langchain langchain-community faiss-cpu sentence-transformers pymupdf gradio langchain-groq\n"
      ]
    },
    {
      "cell_type": "code",
      "execution_count": null,
      "id": "dc404cbc",
      "metadata": {
        "id": "dc404cbc"
      },
      "outputs": [],
      "source": [
        "# Imports\n",
        "import os\n",
        "import fitz  # PyMuPDF\n",
        "from langchain.text_splitter import RecursiveCharacterTextSplitter\n",
        "from langchain.vectorstores import FAISS\n",
        "from langchain.embeddings import SentenceTransformerEmbeddings\n",
        "from langchain.memory import ConversationBufferMemory\n",
        "from langchain.chains import ConversationalRetrievalChain\n",
        "from langchain_groq import ChatGroq\n",
        "import gradio as gr\n",
        "from google.colab import userdata\n"
      ]
    },
    {
      "cell_type": "code",
      "execution_count": null,
      "id": "f4855332",
      "metadata": {
        "id": "f4855332"
      },
      "outputs": [],
      "source": [
        "#  Set Groq API key (from Colab secrets)\n",
        "os.environ[\"GROQ_API_KEY\"] = userdata.get(\"groq_key\")\n"
      ]
    },
    {
      "cell_type": "code",
      "execution_count": null,
      "id": "f9a5be29",
      "metadata": {
        "id": "f9a5be29"
      },
      "outputs": [],
      "source": [
        "#  Upload and load PDF file\n",
        "path = \"/content/The National Health Mission (NHM),.txt\"  # Ensure this is uploaded\n",
        "\n",
        "def extract_text(path):\n",
        "    text = \"\"\n",
        "    with fitz.open(path) as doc:\n",
        "        for page in doc:\n",
        "            text += page.get_text()\n",
        "    return text\n",
        "\n",
        "raw_text = extract_text(path)\n",
        "\n"
      ]
    },
    {
      "cell_type": "code",
      "execution_count": null,
      "id": "9c90ffc8",
      "metadata": {
        "id": "9c90ffc8"
      },
      "outputs": [],
      "source": [
        "#  Split text into chunks\n",
        "splitter = RecursiveCharacterTextSplitter(chunk_size=500, chunk_overlap=50)\n",
        "docs = splitter.create_documents([raw_text])\n"
      ]
    },
    {
      "cell_type": "code",
      "execution_count": null,
      "id": "a1e0b874",
      "metadata": {
        "colab": {
          "base_uri": "https://localhost:8080/",
          "height": 528,
          "referenced_widgets": [
            "363c524e12dc47b6a0263b9200924490",
            "42a59e14461c439dbfd930cc2cef8d61",
            "41b146885c7b4fa582fa1be5702992d0",
            "9717eb49c43e424289831f9a5a3b74ec",
            "3cd91395cc2a48de8842a0a688d868a2",
            "6d53c9a9b45c4a2fbd6b9ac7dc95c2d0",
            "afb64e5597bc45cb998d085628ccaf78",
            "530d6c12896a4f5cad332579c93e3225",
            "95e543c8414c4d0e9b40af9aa3cd94be",
            "18e08eedbe614d59b9eaf7836d12edba",
            "405b3f7c8f8c4cc2a382b5207b260def",
            "b7fae6e06e4245e282bfee586c0123c6",
            "b5ddb96902cf4a20a48ad4a3b7112cdb",
            "53c7e9a9b3f54d20880084a7fadd618d",
            "48e4af32114c420081ac23ddd1fe0b4e",
            "d4712b0f15124d4b8180161eb05a19bb",
            "7d126785b72b4fbabd7ddaabc56798b6",
            "c576db4b4f334da180d89eaaef09210e",
            "95e98f702d5f46f092d5f58c01e2b14f",
            "09825a5b53a243389cd8323dc8cd6e57",
            "4eec0cdfb3824a7aacad959c9c576773",
            "2f7064701d2241c5bba77e8abd457144",
            "8e84c113ceff45649c33c2fd41a2551f",
            "a992442675614956b4dc5f639e5c599c",
            "e04b33bc52b74bb193f82e77f4d25190",
            "ff14c506c4cc4f9ca18dea3c441d2f59",
            "1a7d4a8bc6aa4dd29df9ce88a5bf633c",
            "e25028c2cade47d8a978db4f6fbb59f5",
            "6c389ee12ad3463e9448b644d6932376",
            "f50c6b5d245d429ea10974505c058f20",
            "68d4082810b0468eb045707a5fdee6e3",
            "7e5705a5d4cf4b999faa1243de399ba4",
            "2fae841bdcc44eadb89466e79b9c9c92",
            "8fabbea4eeb24fc0bb729e683d0197fb",
            "263ce610d6dd4f30b0eba38fc99b7416",
            "7e06169a15a54a559bae1592978b763a",
            "d419bbb2ff414938b666a1718f620c0b",
            "cbc1aa5738804fd18169229499814b38",
            "9e1c50d7f98e4c34a12043583094d35d",
            "41d028408b76409f9551a15bc7b398d9",
            "7fd31a89e93c4e5889613c59f8e42174",
            "68ecfe40695343a18e7d9e9105bf60b1",
            "fd3963f679d54eacb2f2b055f5ab7ace",
            "03f1a7835d74476cb6aacc7ce35b1300",
            "4f23877f7886402ca39d3517e1cf39d0",
            "d2debd38b4bf464f99a7f06d655b9b1f",
            "d66ed92eb1724edf97a7bf8d8fff651a",
            "edb653d1f1b14be5811c6145ce6c712f",
            "c5fc0c6fb69942cbb48ddc428046b1ef",
            "55d07285e1e643a7ba0f814d3a31a0bb",
            "fd1dbf790bfd4104907c97aa89a26d41",
            "8a53b7e4f04d4ec19211722ca5dff77f",
            "1a064eb9420645b888de0841901dafdb",
            "4b5cb7be8c1f4b65b4f5b1dabcbf6a57",
            "6775ef0643f14a3b9a76ec8d30f469f8",
            "0c38d1e2213347aa9139155833400081",
            "0ede50ac379640a7bba2f12acfb928f2",
            "467a3745950043aaac3805b2e498de14",
            "83dd1a8c51b341ae86a5e38a922077e4",
            "628631793c624764b4991f001de39755",
            "02d1fb687efd45679aac63ea1b318581",
            "ee1277e13a5443f79bb78a5e9e2b273e",
            "fedccbc77fcc4ff08b9e518d13bde6e2",
            "b25b57da05d04f3ba8f14a5fbaef8b9b",
            "10fbefb7a665412d9180862717cdf5e4",
            "b1d8f009150b4323b2fd2b0c6efa546b",
            "c3f374dd3e0046eb8a2c1764eb3a5abc",
            "b1898afe970f443b8a72fe4d22824c40",
            "14ef4c6920fe474f8a0c960878942e45",
            "077bbba38cfe4d79bd7374782d658ad2",
            "4c2ecf298ac94879a79ef9a5eadb158e",
            "f3a60c3a5f3243499d6f981db8feada5",
            "0f09988caf2049c6a1041f7fe288f56c",
            "d3a0cfe025784e86837bbf32db262995",
            "526683b215284ce78a9a866d752946f0",
            "0ae017e71f424594a0f455dde949a122",
            "31df3bd91ee842a9a94c78be8c1af1c4",
            "ea1f021554284857ac7fa02c65943727",
            "9fa1ba73cdfa45329ca2857887cf858e",
            "d89f6cd978cf49d093351c011e9064e1",
            "41a59ac9dea146ffba71106ac26449fd",
            "7f342c4891734e95b6fefe3eca73f450",
            "e41bc481b48340ce8d8297764056dd56",
            "c348dd6a835c49699733eaab1b7454cd",
            "bc716bd568da461b8f5b88c839d9d09e",
            "9097d23e1e0a4d81808597b7a0e5ba1d",
            "4735c2088feb4782bd3b28fc6228f0d0",
            "cc723d6d041841d59898883feb5e3675",
            "5e1bfc22b463411eba2c925bbad347d7",
            "9c781ea7efaa4220958c3ca6cb6c404a",
            "530873c759594c91a1347cece8b475b8",
            "f2c7722f8fa64ea49d143aba212f622e",
            "52f963b9d5b84fe5a01d8160273c78d5",
            "07242880935242c884362f5ae29f6d75",
            "037b0d9f556548d8b248bff463d9abb7",
            "ede20eab01af4db09eeaada3a0138760",
            "3af7d844574845d08a0ed0069914dc10",
            "f360c66900264d2ab1b5a160141c918e",
            "311b85006b0c4a85a5acb1ac8f49ec1d",
            "3d756673f1c94a67a0ce556753c6e9d8",
            "78eda4e9328c4fe99c6916b412f3e531",
            "e02a0228d3914cc1bbd949c122027547",
            "58b14e2fc50e423fa3b6c93e5bf41259",
            "9689a3b524c743d5961c345778aeab74",
            "2f6d18bb90d14581aa0ddabac5903551",
            "02c0dcef61b941fd91889b0001866846",
            "bebe18f7f94540d09164dac95a1ced63",
            "e17f4cc453814ed2a6625efb8dcd1605",
            "3f576c7066234c8bbeb61dfb5089ec87",
            "6c8a66ebfbc644e3828514266016df4c",
            "5ecf91e8286d4d8b912628bbddb29db6",
            "6a44a5310ec5426f97cf7c211fb6dfa9",
            "a6356a00d817492b992c19a342d4d1f6",
            "181a78fa27404cf38b54daf31455a74f",
            "02d618c6d99d4c43833e3b46657c38df",
            "f38df788db9247bfb160afa05b58aec4",
            "8c2c1dd263da4ad4b42c2808b81527c6",
            "49ee053574bd47d79975826112295e10",
            "24ebd91279884c5499d56119dbfc4ab8",
            "731d3dfa8b81415dbb74cbced3a13882",
            "5643581bca124345af8961ccb1fec153"
          ]
        },
        "id": "a1e0b874",
        "outputId": "dc8f53e2-dd98-430d-9286-8004474b510d"
      },
      "outputs": [
        {
          "name": "stderr",
          "output_type": "stream",
          "text": [
            "/tmp/ipython-input-7-2743481997.py:2: LangChainDeprecationWarning: The class `HuggingFaceEmbeddings` was deprecated in LangChain 0.2.2 and will be removed in 1.0. An updated version of the class exists in the :class:`~langchain-huggingface package and should be used instead. To use it run `pip install -U :class:`~langchain-huggingface` and import as `from :class:`~langchain_huggingface import HuggingFaceEmbeddings``.\n",
            "  embedding = SentenceTransformerEmbeddings(model_name=\"all-MiniLM-L6-v2\")\n",
            "/usr/local/lib/python3.11/dist-packages/huggingface_hub/utils/_auth.py:94: UserWarning: \n",
            "The secret `HF_TOKEN` does not exist in your Colab secrets.\n",
            "To authenticate with the Hugging Face Hub, create a token in your settings tab (https://huggingface.co/settings/tokens), set it as secret in your Google Colab and restart your session.\n",
            "You will be able to reuse this secret in all of your notebooks.\n",
            "Please note that authentication is recommended but still optional to access public models or datasets.\n",
            "  warnings.warn(\n"
          ]
        },
        {
          "data": {
            "application/vnd.jupyter.widget-view+json": {
              "model_id": "363c524e12dc47b6a0263b9200924490",
              "version_major": 2,
              "version_minor": 0
            },
            "text/plain": [
              "modules.json:   0%|          | 0.00/349 [00:00<?, ?B/s]"
            ]
          },
          "metadata": {},
          "output_type": "display_data"
        },
        {
          "data": {
            "application/vnd.jupyter.widget-view+json": {
              "model_id": "b7fae6e06e4245e282bfee586c0123c6",
              "version_major": 2,
              "version_minor": 0
            },
            "text/plain": [
              "config_sentence_transformers.json:   0%|          | 0.00/116 [00:00<?, ?B/s]"
            ]
          },
          "metadata": {},
          "output_type": "display_data"
        },
        {
          "data": {
            "application/vnd.jupyter.widget-view+json": {
              "model_id": "8e84c113ceff45649c33c2fd41a2551f",
              "version_major": 2,
              "version_minor": 0
            },
            "text/plain": [
              "README.md:   0%|          | 0.00/10.5k [00:00<?, ?B/s]"
            ]
          },
          "metadata": {},
          "output_type": "display_data"
        },
        {
          "data": {
            "application/vnd.jupyter.widget-view+json": {
              "model_id": "8fabbea4eeb24fc0bb729e683d0197fb",
              "version_major": 2,
              "version_minor": 0
            },
            "text/plain": [
              "sentence_bert_config.json:   0%|          | 0.00/53.0 [00:00<?, ?B/s]"
            ]
          },
          "metadata": {},
          "output_type": "display_data"
        },
        {
          "data": {
            "application/vnd.jupyter.widget-view+json": {
              "model_id": "4f23877f7886402ca39d3517e1cf39d0",
              "version_major": 2,
              "version_minor": 0
            },
            "text/plain": [
              "config.json:   0%|          | 0.00/612 [00:00<?, ?B/s]"
            ]
          },
          "metadata": {},
          "output_type": "display_data"
        },
        {
          "data": {
            "application/vnd.jupyter.widget-view+json": {
              "model_id": "0c38d1e2213347aa9139155833400081",
              "version_major": 2,
              "version_minor": 0
            },
            "text/plain": [
              "model.safetensors:   0%|          | 0.00/90.9M [00:00<?, ?B/s]"
            ]
          },
          "metadata": {},
          "output_type": "display_data"
        },
        {
          "data": {
            "application/vnd.jupyter.widget-view+json": {
              "model_id": "c3f374dd3e0046eb8a2c1764eb3a5abc",
              "version_major": 2,
              "version_minor": 0
            },
            "text/plain": [
              "tokenizer_config.json:   0%|          | 0.00/350 [00:00<?, ?B/s]"
            ]
          },
          "metadata": {},
          "output_type": "display_data"
        },
        {
          "data": {
            "application/vnd.jupyter.widget-view+json": {
              "model_id": "ea1f021554284857ac7fa02c65943727",
              "version_major": 2,
              "version_minor": 0
            },
            "text/plain": [
              "vocab.txt:   0%|          | 0.00/232k [00:00<?, ?B/s]"
            ]
          },
          "metadata": {},
          "output_type": "display_data"
        },
        {
          "data": {
            "application/vnd.jupyter.widget-view+json": {
              "model_id": "5e1bfc22b463411eba2c925bbad347d7",
              "version_major": 2,
              "version_minor": 0
            },
            "text/plain": [
              "tokenizer.json:   0%|          | 0.00/466k [00:00<?, ?B/s]"
            ]
          },
          "metadata": {},
          "output_type": "display_data"
        },
        {
          "data": {
            "application/vnd.jupyter.widget-view+json": {
              "model_id": "3d756673f1c94a67a0ce556753c6e9d8",
              "version_major": 2,
              "version_minor": 0
            },
            "text/plain": [
              "special_tokens_map.json:   0%|          | 0.00/112 [00:00<?, ?B/s]"
            ]
          },
          "metadata": {},
          "output_type": "display_data"
        },
        {
          "data": {
            "application/vnd.jupyter.widget-view+json": {
              "model_id": "5ecf91e8286d4d8b912628bbddb29db6",
              "version_major": 2,
              "version_minor": 0
            },
            "text/plain": [
              "config.json:   0%|          | 0.00/190 [00:00<?, ?B/s]"
            ]
          },
          "metadata": {},
          "output_type": "display_data"
        }
      ],
      "source": [
        "#  Create FAISS vector store with sentence-transformer embeddings\n",
        "embedding = SentenceTransformerEmbeddings(model_name=\"all-MiniLM-L6-v2\")\n",
        "vectordb = FAISS.from_documents(docs, embedding)\n",
        "retriever = vectordb.as_retriever()\n"
      ]
    },
    {
      "cell_type": "code",
      "execution_count": null,
      "id": "54d4e86d",
      "metadata": {
        "id": "54d4e86d"
      },
      "outputs": [],
      "source": [
        "#  Initialize Groq LLM (LLaMA3)\n",
        "llm = ChatGroq(\n",
        "    groq_api_key=os.environ[\"GROQ_API_KEY\"],\n",
        "    model_name=\"llama3-8b-8192\"\n",
        ")\n"
      ]
    },
    {
      "cell_type": "code",
      "execution_count": null,
      "id": "9cd65676",
      "metadata": {
        "colab": {
          "base_uri": "https://localhost:8080/"
        },
        "id": "9cd65676",
        "outputId": "602199a4-ca45-4230-fb07-a570e621b1c0"
      },
      "outputs": [
        {
          "name": "stderr",
          "output_type": "stream",
          "text": [
            "/tmp/ipython-input-9-2533216943.py:2: LangChainDeprecationWarning: Please see the migration guide at: https://python.langchain.com/docs/versions/migrating_memory/\n",
            "  memory = ConversationBufferMemory(memory_key=\"chat_history\", return_messages=True)\n"
          ]
        }
      ],
      "source": [
        "#  Set up conversational retrieval chain with memory\n",
        "memory = ConversationBufferMemory(memory_key=\"chat_history\", return_messages=True)\n",
        "qa_chain = ConversationalRetrievalChain.from_llm(\n",
        "    llm=llm,\n",
        "    retriever=retriever,\n",
        "    memory=memory\n",
        ")\n"
      ]
    },
    {
      "cell_type": "code",
      "execution_count": null,
      "id": "533af937",
      "metadata": {
        "colab": {
          "base_uri": "https://localhost:8080/",
          "height": 680
        },
        "id": "533af937",
        "outputId": "212a5485-f5bb-4afb-a6de-545968616a69"
      },
      "outputs": [
        {
          "name": "stderr",
          "output_type": "stream",
          "text": [
            "/usr/local/lib/python3.11/dist-packages/gradio/chat_interface.py:339: UserWarning: The 'tuples' format for chatbot messages is deprecated and will be removed in a future version of Gradio. Please set type='messages' instead, which uses openai-style 'role' and 'content' keys.\n",
            "  self.chatbot = Chatbot(\n"
          ]
        },
        {
          "name": "stdout",
          "output_type": "stream",
          "text": [
            "It looks like you are running Gradio on a hosted a Jupyter notebook. For the Gradio app to work, sharing must be enabled. Automatically setting `share=True` (you can turn this off by setting `share=False` in `launch()` explicitly).\n",
            "\n",
            "Colab notebook detected. To show errors in colab notebook, set debug=True in launch()\n",
            "* Running on public URL: https://105fb43242418843a1.gradio.live\n",
            "\n",
            "This share link expires in 1 week. For free permanent hosting and GPU upgrades, run `gradio deploy` from the terminal in the working directory to deploy to Hugging Face Spaces (https://huggingface.co/spaces)\n"
          ]
        },
        {
          "data": {
            "text/html": [
              "<div><iframe src=\"https://105fb43242418843a1.gradio.live\" width=\"100%\" height=\"500\" allow=\"autoplay; camera; microphone; clipboard-read; clipboard-write;\" frameborder=\"0\" allowfullscreen></iframe></div>"
            ],
            "text/plain": [
              "<IPython.core.display.HTML object>"
            ]
          },
          "metadata": {},
          "output_type": "display_data"
        },
        {
          "data": {
            "text/plain": []
          },
          "execution_count": 10,
          "metadata": {},
          "output_type": "execute_result"
        }
      ],
      "source": [
        "#  Gradio chatbot interface\n",
        "def chat_interface(message, history):\n",
        "    result = qa_chain({\"question\": message})\n",
        "    return result[\"answer\"]\n",
        "\n",
        "gr.ChatInterface(\n",
        "    fn=chat_interface,\n",
        "    title=\" Government AI Assistant\",\n",
        "    description=\"Ask me anything about Government healthcare policies. Based on Operational Guidelines for CPHC.\",\n",
        "    theme=\"soft\"\n",
        ").launch()\n"
      ]
    },
    {
      "cell_type": "code",
      "execution_count": null,
      "id": "zxaG7Yhae5H1",
      "metadata": {
        "id": "zxaG7Yhae5H1"
      },
      "outputs": [],
      "source": [
        "import pandas as pd\n",
        "from sentence_transformers import SentenceTransformer\n",
        "from sklearn.metrics.pairwise import cosine_similarity\n",
        "\n",
        "def sentence_similarity(sentence1, sentence2):\n",
        "    # Load the sentence transformer model\n",
        "    model = SentenceTransformer('all-MiniLM-L6-v2')\n",
        "\n",
        "    # Compute the embeddings for the two sentences\n",
        "    sentence1_embedding = model.encode([sentence1]) #reference\n",
        "    sentence2_embedding = model.encode([sentence2]) #prediction\n",
        "\n",
        "    # Calculate the cosine similarity between the two sentences\n",
        "    similarity = cosine_similarity(sentence1_embedding, sentence2_embedding)[0]\n",
        "\n",
        "    return similarity"
      ]
    },
    {
      "cell_type": "code",
      "execution_count": null,
      "id": "rN2PWLXaDnYE",
      "metadata": {
        "colab": {
          "base_uri": "https://localhost:8080/"
        },
        "id": "rN2PWLXaDnYE",
        "outputId": "89116fdc-f5be-451a-9574-031196c0935c"
      },
      "outputs": [
        {
          "name": "stderr",
          "output_type": "stream",
          "text": [
            "/tmp/ipython-input-12-3776691829.py:2: LangChainDeprecationWarning: The method `Chain.run` was deprecated in langchain 0.1.0 and will be removed in 1.0. Use :meth:`~invoke` instead.\n",
            "  answer = qa_chain.run(query)\n"
          ]
        },
        {
          "name": "stdout",
          "output_type": "stream",
          "text": [
            "Answer: According to the provided context, the non-communicable diseases that account for over 60% of total mortality in India are:\n",
            "\n",
            "1. Cardiovascular diseases\n",
            "2. Diabetes\n",
            "3. Cancer\n",
            "4. Respiratory diseases\n"
          ]
        }
      ],
      "source": [
        "query = \"what are the non-communicable diseases which account for 60% of total mortality?\"\n",
        "answer = qa_chain.run(query)\n",
        "print(\"Answer:\", answer)"
      ]
    },
    {
      "cell_type": "code",
      "execution_count": null,
      "id": "kTR4ljazz9e9",
      "metadata": {
        "colab": {
          "base_uri": "https://localhost:8080/"
        },
        "id": "kTR4ljazz9e9",
        "outputId": "8e3d41e2-18aa-4618-94bc-8012e91256fb"
      },
      "outputs": [
        {
          "name": "stdout",
          "output_type": "stream",
          "text": [
            "Cosine similarity between the two sentences: [0.86163366]\n"
          ]
        }
      ],
      "source": [
        "my_ans=\"\"\"the non-communicable diseases like cardiovascular diseases, diabetes, cancer, respiratory, and other chronic diseases, account for over 60% of\n",
        "total mortality\"\"\"\n",
        "question=\"\"\"what are the non-communicable diseases which account for 60% of total mortality?\"\"\"\n",
        "ai_ans=\"\"\"According to the provided context, non-communicable diseases such as cardiovascular diseases, diabetes, cancer, respiratory, and other chronic diseases account for over 60% of total mortality in India.\"\"\"\n",
        "similarity_score = sentence_similarity(my_ans, ai_ans)\n",
        "\n",
        "print(f\"Cosine similarity between the two sentences: {similarity_score}\")"
      ]
    },
    {
      "cell_type": "code",
      "execution_count": null,
      "id": "txccwryAD3qm",
      "metadata": {
        "id": "txccwryAD3qm"
      },
      "outputs": [],
      "source": []
    }
  ],
  "metadata": {
    "colab": {
      "provenance": []
    },
    "kernelspec": {
      "display_name": "Python 3",
      "name": "python3"
    },
    "language_info": {
      "name": "python"
    }
  },
  "nbformat": 4,
  "nbformat_minor": 5
}
